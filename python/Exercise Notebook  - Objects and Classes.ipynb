{
 "cells": [
  {
   "cell_type": "markdown",
   "id": "identified-species",
   "metadata": {
    "slideshow": {
     "slide_type": "skip"
    }
   },
   "source": [
    "Copyright © 2020 Selangor Human Resource Development Center. All Rights Reserved."
   ]
  },
  {
   "cell_type": "markdown",
   "id": "lightweight-turner",
   "metadata": {},
   "source": [
    "# Objects and Classes"
   ]
  },
  {
   "cell_type": "markdown",
   "id": "second-discussion",
   "metadata": {},
   "source": [
    "1. Create an empty class named MyClass"
   ]
  },
  {
   "cell_type": "code",
   "execution_count": 8,
   "id": "romance-signature",
   "metadata": {},
   "outputs": [],
   "source": [
    "class MyClass:\n",
    "    def __init__(self, val): \n",
    "        self.val = val\n",
    "        \n",
    "    def printValue(self):\n",
    "        return \"Value of object is \" + str(self.val)"
   ]
  },
  {
   "cell_type": "code",
   "execution_count": null,
   "id": "409c36cb",
   "metadata": {},
   "outputs": [],
   "source": [
    "#in-class solution \n",
    "class MyClass:\n",
    "    x = 5\n",
    "\n",
    "#create empty class\n",
    "class ClassName:\n",
    "    pass"
   ]
  },
  {
   "cell_type": "markdown",
   "id": "satisfied-scanner",
   "metadata": {},
   "source": [
    "2. Create an object of MyClass called p1\n",
    "\n",
    "                class MyClass:\n",
    "                    x = 5"
   ]
  },
  {
   "cell_type": "code",
   "execution_count": 9,
   "id": "nuclear-zimbabwe",
   "metadata": {},
   "outputs": [],
   "source": [
    "p1 = MyClass(5)"
   ]
  },
  {
   "cell_type": "code",
   "execution_count": null,
   "id": "85854873",
   "metadata": {},
   "outputs": [],
   "source": [
    "#in-class solution\n",
    "p1 = MyClass()"
   ]
  },
  {
   "cell_type": "markdown",
   "id": "going-married",
   "metadata": {},
   "source": [
    "3. Use the p1 object to print the value of x"
   ]
  },
  {
   "cell_type": "code",
   "execution_count": 10,
   "id": "quick-annotation",
   "metadata": {},
   "outputs": [
    {
     "data": {
      "text/plain": [
       "'Value of object is 5'"
      ]
     },
     "execution_count": 10,
     "metadata": {},
     "output_type": "execute_result"
    }
   ],
   "source": [
    "p1.printValue()"
   ]
  },
  {
   "cell_type": "code",
   "execution_count": null,
   "id": "54b5cb9b",
   "metadata": {},
   "outputs": [],
   "source": [
    "#in-class solution\n",
    "print(p1.x)"
   ]
  },
  {
   "cell_type": "markdown",
   "id": "respected-match",
   "metadata": {},
   "source": [
    "4. What is the correct syntax to assign a \"init\" function with arguments name and age to a class named Person?"
   ]
  },
  {
   "cell_type": "code",
   "execution_count": 16,
   "id": "celtic-accounting",
   "metadata": {},
   "outputs": [],
   "source": [
    "class Person:\n",
    "     def __init__(self, name, age):\n",
    "            self.name = name\n",
    "            self.age = age"
   ]
  },
  {
   "cell_type": "markdown",
   "id": "czech-telescope",
   "metadata": {},
   "source": [
    "5. Write a Python class named Rectangle constructed by a length and width and a method which will compute the area of a rectangle."
   ]
  },
  {
   "cell_type": "code",
   "execution_count": 18,
   "id": "polar-sullivan",
   "metadata": {},
   "outputs": [
    {
     "name": "stdout",
     "output_type": "stream",
     "text": [
      "20\n"
     ]
    }
   ],
   "source": [
    "class Rectangle():\n",
    "    def __init__(self,length, width):\n",
    "        self.length = length\n",
    "        self.width = width\n",
    "        \n",
    "    def calcArea(self):\n",
    "        return self.length * self.width\n",
    "    \n",
    "rec = Rectangle(4,5)\n",
    "print(rec.calcArea())"
   ]
  },
  {
   "cell_type": "markdown",
   "id": "civic-mention",
   "metadata": {},
   "source": [
    "6. Write a Python class named Circle constructed by a radius and two methods which will compute the area and the perimeter of a circle"
   ]
  },
  {
   "cell_type": "code",
   "execution_count": 19,
   "id": "invalid-citizenship",
   "metadata": {},
   "outputs": [
    {
     "name": "stdout",
     "output_type": "stream",
     "text": [
      "78.53981633974483\n",
      "31.41592653589793\n"
     ]
    }
   ],
   "source": [
    "import math\n",
    "\n",
    "class Circle:\n",
    "    def __init__(self,rad):\n",
    "        self.rad = rad\n",
    "        \n",
    "    def calcArea(self):\n",
    "        return math.pi * pow(self.rad,2)\n",
    "    \n",
    "    def calcPerimeter(self):\n",
    "        return 2 * math.pi * self.rad\n",
    "    \n",
    "circ = Circle(5)\n",
    "print(circ.calcArea())\n",
    "print(circ.calcPerimeter())"
   ]
  },
  {
   "cell_type": "code",
   "execution_count": null,
   "id": "b5811b5a",
   "metadata": {},
   "outputs": [],
   "source": []
  }
 ],
 "metadata": {
  "kernelspec": {
   "display_name": "Python 3 (ipykernel)",
   "language": "python",
   "name": "python3"
  },
  "language_info": {
   "codemirror_mode": {
    "name": "ipython",
    "version": 3
   },
   "file_extension": ".py",
   "mimetype": "text/x-python",
   "name": "python",
   "nbconvert_exporter": "python",
   "pygments_lexer": "ipython3",
   "version": "3.9.7"
  }
 },
 "nbformat": 4,
 "nbformat_minor": 5
}
