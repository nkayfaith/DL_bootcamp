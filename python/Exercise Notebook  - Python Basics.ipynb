{
 "cells": [
  {
   "cell_type": "markdown",
   "id": "identified-species",
   "metadata": {
    "slideshow": {
     "slide_type": "skip"
    }
   },
   "source": [
    "Copyright © 2020 Selangor Human Resource Development Center. All Rights Reserved."
   ]
  },
  {
   "cell_type": "markdown",
   "id": "proof-blake",
   "metadata": {},
   "source": [
    "# Data Types and Variables"
   ]
  },
  {
   "cell_type": "markdown",
   "id": "limited-short",
   "metadata": {},
   "source": [
    "1. Store a message in a variable, then print that message. Then change the value of your variable to a new message, and print the new message."
   ]
  },
  {
   "cell_type": "code",
   "execution_count": 22,
   "id": "laughing-ranking",
   "metadata": {},
   "outputs": [
    {
     "name": "stdout",
     "output_type": "stream",
     "text": [
      "This is NK's Message\n",
      "This is NK's 2nd Message\n"
     ]
    }
   ],
   "source": [
    "x = \"This is NK's Message\"\n",
    "print(x)\n",
    "x = \"This is NK's 2nd Message\"\n",
    "print(x)"
   ]
  },
  {
   "cell_type": "markdown",
   "id": "surrounded-amendment",
   "metadata": {},
   "source": [
    "2. Use built-in input function to prompt a number to be typed and store it inside a variable. Print the variable"
   ]
  },
  {
   "cell_type": "code",
   "execution_count": 2,
   "id": "returning-actor",
   "metadata": {},
   "outputs": [
    {
     "name": "stdout",
     "output_type": "stream",
     "text": [
      "Enter a number4\n",
      "4\n"
     ]
    }
   ],
   "source": [
    "x = input(\"Enter a number : \")\n",
    "print(x)"
   ]
  },
  {
   "cell_type": "markdown",
   "id": "operational-stuart",
   "metadata": {},
   "source": [
    "## Numbers"
   ]
  },
  {
   "cell_type": "markdown",
   "id": "aging-collar",
   "metadata": {},
   "source": [
    "1. Write addition, subtraction, multiplication, and division operations that each result in the number 8. Be sure to enclose your operations in print statements to see the results. You should create four lines that look like this:\n",
    "\n",
    "            print(5 + 3)"
   ]
  },
  {
   "cell_type": "code",
   "execution_count": 4,
   "id": "finnish-spanking",
   "metadata": {},
   "outputs": [
    {
     "name": "stdout",
     "output_type": "stream",
     "text": [
      "8\n",
      "8\n",
      "8\n",
      "8\n"
     ]
    }
   ],
   "source": [
    "print(4 + 4)\n",
    "print(12 - 4)\n",
    "print(2 * 4)\n",
    "print(32 // 4)"
   ]
  },
  {
   "cell_type": "markdown",
   "id": "environmental-virus",
   "metadata": {},
   "source": [
    "2. Store a number in a variable. Then, using that variable, create a message that reveals that number. Print that message."
   ]
  },
  {
   "cell_type": "code",
   "execution_count": 6,
   "id": "graphic-medicaid",
   "metadata": {},
   "outputs": [
    {
     "name": "stdout",
     "output_type": "stream",
     "text": [
      "The number stored is  5\n"
     ]
    }
   ],
   "source": [
    "x = 5;\n",
    "print(\"The number stored is \",x)"
   ]
  },
  {
   "cell_type": "markdown",
   "id": "advanced-instrumentation",
   "metadata": {},
   "source": [
    "## Strings"
   ]
  },
  {
   "cell_type": "markdown",
   "id": "sorted-status",
   "metadata": {},
   "source": [
    "1. Use len method to print the length of the string. (Use \"Hello World\" as string)"
   ]
  },
  {
   "cell_type": "code",
   "execution_count": 7,
   "id": "expressed-league",
   "metadata": {},
   "outputs": [
    {
     "name": "stdout",
     "output_type": "stream",
     "text": [
      "11\n"
     ]
    }
   ],
   "source": [
    "print(len(\"Hello World\"))"
   ]
  },
  {
   "cell_type": "markdown",
   "id": "configured-closure",
   "metadata": {},
   "source": [
    "2. Get the first character of the string 'Hello World'"
   ]
  },
  {
   "cell_type": "code",
   "execution_count": 8,
   "id": "amber-lotus",
   "metadata": {},
   "outputs": [
    {
     "name": "stdout",
     "output_type": "stream",
     "text": [
      "H\n"
     ]
    }
   ],
   "source": [
    "x = \"Hello World\"\n",
    "print(x[0])"
   ]
  },
  {
   "cell_type": "markdown",
   "id": "enabling-allocation",
   "metadata": {},
   "source": [
    "3. Get the characters from index 2 to index 4 of the same string"
   ]
  },
  {
   "cell_type": "code",
   "execution_count": 11,
   "id": "prepared-facing",
   "metadata": {},
   "outputs": [
    {
     "name": "stdout",
     "output_type": "stream",
     "text": [
      "llo\n"
     ]
    }
   ],
   "source": [
    "x = \"Hello World\"\n",
    "print(x[2:4+1])"
   ]
  },
  {
   "cell_type": "markdown",
   "id": "occupied-cherry",
   "metadata": {},
   "source": [
    "4. Return the string without any whitespace at the beginning or the end."
   ]
  },
  {
   "cell_type": "code",
   "execution_count": 14,
   "id": "velvet-actor",
   "metadata": {},
   "outputs": [
    {
     "name": "stdout",
     "output_type": "stream",
     "text": [
      "Hello World\n"
     ]
    }
   ],
   "source": [
    "x = \"Hello World\"\n",
    "print(x.strip())"
   ]
  },
  {
   "cell_type": "markdown",
   "id": "divine-threat",
   "metadata": {},
   "source": [
    "5. Convert the value of txt to upper case"
   ]
  },
  {
   "cell_type": "code",
   "execution_count": 62,
   "id": "minor-return",
   "metadata": {},
   "outputs": [
    {
     "name": "stdout",
     "output_type": "stream",
     "text": [
      "HELLO WORLD\n"
     ]
    }
   ],
   "source": [
    "x = \"Hello World\"\n",
    "print(x.upper())"
   ]
  },
  {
   "cell_type": "markdown",
   "id": "directed-entrepreneur",
   "metadata": {},
   "source": [
    "6. Convert the value of txt to lower case"
   ]
  },
  {
   "cell_type": "code",
   "execution_count": 16,
   "id": "center-projection",
   "metadata": {},
   "outputs": [
    {
     "name": "stdout",
     "output_type": "stream",
     "text": [
      "hello world\n"
     ]
    }
   ],
   "source": [
    "x = \"Hello World\"\n",
    "print(x.lower())"
   ]
  },
  {
   "cell_type": "markdown",
   "id": "turkish-navigator",
   "metadata": {},
   "source": [
    "7. Replace the character 'H' with a 'J'"
   ]
  },
  {
   "cell_type": "code",
   "execution_count": 18,
   "id": "configured-feature",
   "metadata": {},
   "outputs": [
    {
     "name": "stdout",
     "output_type": "stream",
     "text": [
      "Jello World\n"
     ]
    }
   ],
   "source": [
    "x = \"Hello World\"\n",
    "print(x.replace(\"H\",\"J\"))"
   ]
  },
  {
   "cell_type": "markdown",
   "id": "known-playlist",
   "metadata": {},
   "source": [
    "8. Insert the correct syntax to add a placeholder for the age parameter.\n",
    "\n",
    "            age = 36\n",
    "            txt = \"My name is John, and I am __\" # Use placeholder for the age parameter\n",
    "            print(txt.format(age))"
   ]
  },
  {
   "cell_type": "code",
   "execution_count": 41,
   "id": "going-exposure",
   "metadata": {},
   "outputs": [
    {
     "name": "stdout",
     "output_type": "stream",
     "text": [
      "My name is John, and I am 36\n"
     ]
    }
   ],
   "source": [
    "age = 36\n",
    "txt = \"My name is John, and I am {}\" # Use placeholder for the age parameter\n",
    "print(txt.format(age))"
   ]
  },
  {
   "cell_type": "markdown",
   "id": "explicit-stage",
   "metadata": {},
   "source": [
    "## Lists"
   ]
  },
  {
   "cell_type": "markdown",
   "id": "accepting-chess",
   "metadata": {},
   "source": [
    "1. Print the second item in the fruits list.\n",
    "\n",
    "                fruits = ['apple', 'banana', 'cherry']"
   ]
  },
  {
   "cell_type": "code",
   "execution_count": 21,
   "id": "olive-highway",
   "metadata": {},
   "outputs": [
    {
     "name": "stdout",
     "output_type": "stream",
     "text": [
      "banana\n"
     ]
    }
   ],
   "source": [
    "fruits = ['apple', 'banana', 'cherry']\n",
    "print(fruits[1])"
   ]
  },
  {
   "cell_type": "markdown",
   "id": "coral-taiwan",
   "metadata": {},
   "source": [
    "2. Change the value from \"apple\" to \"kiwi\", in the fruits list."
   ]
  },
  {
   "cell_type": "code",
   "execution_count": 26,
   "id": "mexican-salvation",
   "metadata": {},
   "outputs": [
    {
     "name": "stdout",
     "output_type": "stream",
     "text": [
      "['kiwi', 'banana', 'cherry']\n"
     ]
    }
   ],
   "source": [
    "fruits = ['apple', 'banana', 'cherry']\n",
    "fruits[fruits.index(\"apple\")] = \"kiwi\"\n",
    "print(fruits)"
   ]
  },
  {
   "cell_type": "markdown",
   "id": "parental-publicity",
   "metadata": {},
   "source": [
    "3. Use the append method to add \"orange\" to the fruits list."
   ]
  },
  {
   "cell_type": "code",
   "execution_count": 30,
   "id": "photographic-occasion",
   "metadata": {},
   "outputs": [
    {
     "name": "stdout",
     "output_type": "stream",
     "text": [
      "['apple', 'banana', 'cherry', 'orange']\n"
     ]
    }
   ],
   "source": [
    "fruits = ['apple', 'banana', 'cherry']\n",
    "fruits.append(\"orange\")\n",
    "print(fruits)"
   ]
  },
  {
   "cell_type": "markdown",
   "id": "leading-leonard",
   "metadata": {},
   "source": [
    "4. Use the insert method to add \"lemon\" as the second item in the fruits list."
   ]
  },
  {
   "cell_type": "code",
   "execution_count": 33,
   "id": "american-homeless",
   "metadata": {},
   "outputs": [
    {
     "name": "stdout",
     "output_type": "stream",
     "text": [
      "['apple', 'lemon', 'banana', 'cherry']\n"
     ]
    }
   ],
   "source": [
    "fruits = ['apple', 'banana', 'cherry']\n",
    "fruits.insert(1, \"lemon\")\n",
    "print(fruits)"
   ]
  },
  {
   "cell_type": "markdown",
   "id": "everyday-configuration",
   "metadata": {},
   "source": [
    "5. Use remove method to remove 'banana' from the fruits list."
   ]
  },
  {
   "cell_type": "code",
   "execution_count": 34,
   "id": "atlantic-falls",
   "metadata": {},
   "outputs": [
    {
     "name": "stdout",
     "output_type": "stream",
     "text": [
      "['apple', 'cherry']\n"
     ]
    }
   ],
   "source": [
    "fruits = ['apple', 'banana', 'cherry']\n",
    "fruits.remove(\"banana\")\n",
    "print(fruits)"
   ]
  },
  {
   "cell_type": "markdown",
   "id": "direct-anthropology",
   "metadata": {},
   "source": [
    "6. Use negative indexing to print the last item in the list."
   ]
  },
  {
   "cell_type": "code",
   "execution_count": 35,
   "id": "right-winter",
   "metadata": {},
   "outputs": [
    {
     "name": "stdout",
     "output_type": "stream",
     "text": [
      "cherry\n"
     ]
    }
   ],
   "source": [
    "fruits = ['apple', 'banana', 'cherry']\n",
    "print(fruits[-1])"
   ]
  },
  {
   "cell_type": "markdown",
   "id": "impressed-revolution",
   "metadata": {},
   "source": [
    "7. Use a range of indexes to print the third, fourth, and fifth item in the list.\n",
    "\n",
    "                fruits = [\"apple\", \"banana\", \"cherry\", \"orange\", \"kiwi\", \"melon\", \"mango\"]"
   ]
  },
  {
   "cell_type": "code",
   "execution_count": 39,
   "id": "automated-ethernet",
   "metadata": {},
   "outputs": [
    {
     "name": "stdout",
     "output_type": "stream",
     "text": [
      "['cherry', 'orange', 'kiwi']\n"
     ]
    }
   ],
   "source": [
    "fruits = [\"apple\", \"banana\", \"cherry\", \"orange\", \"kiwi\", \"melon\", \"mango\"]\n",
    "print(fruits[2:5])"
   ]
  },
  {
   "cell_type": "markdown",
   "id": "antique-measure",
   "metadata": {},
   "source": [
    "8. Use the correct syntax to print the number of items in the list."
   ]
  },
  {
   "cell_type": "code",
   "execution_count": 40,
   "id": "graduate-mailman",
   "metadata": {},
   "outputs": [
    {
     "name": "stdout",
     "output_type": "stream",
     "text": [
      "7\n"
     ]
    }
   ],
   "source": [
    "fruits = [\"apple\", \"banana\", \"cherry\", \"orange\", \"kiwi\", \"melon\", \"mango\"]\n",
    "print(len(fruits))"
   ]
  },
  {
   "cell_type": "markdown",
   "id": "optimum-tsunami",
   "metadata": {},
   "source": [
    "## Dictionaries"
   ]
  },
  {
   "cell_type": "markdown",
   "id": "prescription-thesaurus",
   "metadata": {},
   "source": [
    "1. Use get method to print the value of the 'model' key of the car dictionary.\n",
    "\n",
    "                car =\t{\n",
    "                  \"brand\": \"Ford\",\n",
    "                  \"model\": \"Mustang\",\n",
    "                  \"year\": 1964\n",
    "                }"
   ]
  },
  {
   "cell_type": "code",
   "execution_count": 59,
   "id": "moral-resident",
   "metadata": {},
   "outputs": [
    {
     "data": {
      "text/plain": [
       "'Mustang'"
      ]
     },
     "execution_count": 59,
     "metadata": {},
     "output_type": "execute_result"
    }
   ],
   "source": [
    "car =    {\n",
    "           \"brand\": \"Ford\",\n",
    "           \"model\": \"Mustang\",\n",
    "           \"year\": 1964\n",
    "         }\n",
    "car.get(\"model\")"
   ]
  },
  {
   "cell_type": "markdown",
   "id": "introductory-orlando",
   "metadata": {},
   "source": [
    "2. Change the \"year\" value from 1964 to 2020."
   ]
  },
  {
   "cell_type": "code",
   "execution_count": 57,
   "id": "abstract-acceptance",
   "metadata": {},
   "outputs": [
    {
     "name": "stdout",
     "output_type": "stream",
     "text": [
      "{'brand': 'Ford', 'model': 'Mustang', 'year': 2020}\n"
     ]
    }
   ],
   "source": [
    "car =    {\n",
    "           \"brand\": \"Ford\",\n",
    "           \"model\": \"Mustang\",\n",
    "           \"year\": 1964\n",
    "         }\n",
    "car[\"year\"] = 2020\n",
    "#car.update({\"year\":2020})\n",
    "print(car)"
   ]
  },
  {
   "cell_type": "markdown",
   "id": "chinese-hollow",
   "metadata": {},
   "source": [
    "3. Add key/value pair 'color': 'red' to the car dictionary"
   ]
  },
  {
   "cell_type": "code",
   "execution_count": 49,
   "id": "stock-alert",
   "metadata": {},
   "outputs": [
    {
     "name": "stdout",
     "output_type": "stream",
     "text": [
      "{'brand': 'Ford', 'model': 'Mustang', 'year': 1964, 'color': 'red'}\n"
     ]
    }
   ],
   "source": [
    "car =    {\n",
    "           \"brand\": \"Ford\",\n",
    "           \"model\": \"Mustang\",\n",
    "           \"year\": 1964\n",
    "         }\n",
    "car[\"color\"] = \"red\"\n",
    "print(car)"
   ]
  },
  {
   "cell_type": "markdown",
   "id": "curious-transsexual",
   "metadata": {},
   "source": [
    "4. Use the pop method to remove 'model' from the car dictionary"
   ]
  },
  {
   "cell_type": "code",
   "execution_count": 51,
   "id": "statutory-violin",
   "metadata": {},
   "outputs": [
    {
     "name": "stdout",
     "output_type": "stream",
     "text": [
      "{'brand': 'Ford', 'year': 1964}\n"
     ]
    }
   ],
   "source": [
    "car =    {\n",
    "           \"brand\": \"Ford\",\n",
    "           \"model\": \"Mustang\",\n",
    "           \"year\": 1964\n",
    "         }\n",
    "car.pop(\"model\")\n",
    "print(car)"
   ]
  },
  {
   "cell_type": "markdown",
   "id": "manufactured-butterfly",
   "metadata": {},
   "source": [
    "5. Use the clear method to empty the car dictionary."
   ]
  },
  {
   "cell_type": "code",
   "execution_count": 52,
   "id": "individual-picking",
   "metadata": {},
   "outputs": [
    {
     "name": "stdout",
     "output_type": "stream",
     "text": [
      "{}\n"
     ]
    }
   ],
   "source": [
    "car =    {\n",
    "           \"brand\": \"Ford\",\n",
    "           \"model\": \"Mustang\",\n",
    "           \"year\": 1964\n",
    "         }\n",
    "car.clear()\n",
    "print(car)"
   ]
  },
  {
   "cell_type": "markdown",
   "id": "loose-combine",
   "metadata": {},
   "source": [
    "## Tuples"
   ]
  },
  {
   "cell_type": "markdown",
   "id": "informed-giving",
   "metadata": {},
   "source": [
    "1. Use the correct syntax to print the first item in the fruits tuple.\n",
    "    \n",
    "                fruits = ('apple', 'banana', 'cherry')"
   ]
  },
  {
   "cell_type": "code",
   "execution_count": 2,
   "id": "starting-america",
   "metadata": {},
   "outputs": [
    {
     "data": {
      "text/plain": [
       "'apple'"
      ]
     },
     "execution_count": 2,
     "metadata": {},
     "output_type": "execute_result"
    }
   ],
   "source": [
    "fruits = ('apple', 'banana', 'cherry')\n",
    "print(fruits[0])"
   ]
  },
  {
   "cell_type": "markdown",
   "id": "weighted-queue",
   "metadata": {},
   "source": [
    "2. Use the correct syntax to print the number of items in the fruits tuple."
   ]
  },
  {
   "cell_type": "code",
   "execution_count": 3,
   "id": "progressive-reply",
   "metadata": {},
   "outputs": [
    {
     "data": {
      "text/plain": [
       "3"
      ]
     },
     "execution_count": 3,
     "metadata": {},
     "output_type": "execute_result"
    }
   ],
   "source": [
    "fruits = ('apple', 'banana', 'cherry')\n",
    "print(len(fruits))"
   ]
  },
  {
   "cell_type": "markdown",
   "id": "reflected-ceiling",
   "metadata": {},
   "source": [
    "3. Use negative indexing to print the last item in the tuple."
   ]
  },
  {
   "cell_type": "code",
   "execution_count": 4,
   "id": "defined-treasury",
   "metadata": {},
   "outputs": [
    {
     "data": {
      "text/plain": [
       "'cherry'"
      ]
     },
     "execution_count": 4,
     "metadata": {},
     "output_type": "execute_result"
    }
   ],
   "source": [
    "fruits = ('apple', 'banana', 'cherry')\n",
    "print(fruits[-1])"
   ]
  },
  {
   "cell_type": "markdown",
   "id": "greek-grove",
   "metadata": {},
   "source": [
    "## Datatype conversion"
   ]
  },
  {
   "cell_type": "markdown",
   "id": "religious-mumbai",
   "metadata": {},
   "source": [
    "1. Convert number 5 to a floating point number"
   ]
  },
  {
   "cell_type": "code",
   "execution_count": 5,
   "id": "behind-letter",
   "metadata": {},
   "outputs": [
    {
     "data": {
      "text/plain": [
       "5.0"
      ]
     },
     "execution_count": 5,
     "metadata": {},
     "output_type": "execute_result"
    }
   ],
   "source": [
    "float(5)"
   ]
  },
  {
   "cell_type": "markdown",
   "id": "extra-arthritis",
   "metadata": {},
   "source": [
    "2. Convert 5.5 to integer"
   ]
  },
  {
   "cell_type": "code",
   "execution_count": 6,
   "id": "special-champion",
   "metadata": {},
   "outputs": [
    {
     "data": {
      "text/plain": [
       "5"
      ]
     },
     "execution_count": 6,
     "metadata": {},
     "output_type": "execute_result"
    }
   ],
   "source": [
    "int(5.5)"
   ]
  },
  {
   "cell_type": "markdown",
   "id": "progressive-warren",
   "metadata": {},
   "source": [
    "3. Convert number 5 into a complex number"
   ]
  },
  {
   "cell_type": "code",
   "execution_count": 7,
   "id": "confirmed-bankruptcy",
   "metadata": {},
   "outputs": [
    {
     "data": {
      "text/plain": [
       "(5+0j)"
      ]
     },
     "execution_count": 7,
     "metadata": {},
     "output_type": "execute_result"
    }
   ],
   "source": [
    "complex(5)"
   ]
  },
  {
   "cell_type": "markdown",
   "id": "jewish-scanner",
   "metadata": {},
   "source": [
    "# Control Statements"
   ]
  },
  {
   "cell_type": "markdown",
   "id": "endangered-birmingham",
   "metadata": {},
   "source": [
    "1. Print 'Big' if a is greater than b.\n",
    "\n",
    "                a = 50\n",
    "                b = 10"
   ]
  },
  {
   "cell_type": "code",
   "execution_count": 9,
   "id": "dress-methodology",
   "metadata": {},
   "outputs": [
    {
     "name": "stdout",
     "output_type": "stream",
     "text": [
      "Big\n"
     ]
    }
   ],
   "source": [
    "a = 50\n",
    "b = 10\n",
    "if a > b: print('Big')"
   ]
  },
  {
   "cell_type": "markdown",
   "id": "computational-morris",
   "metadata": {},
   "source": [
    "2. Print 'Not Equal' if a is not equal to b."
   ]
  },
  {
   "cell_type": "code",
   "execution_count": 10,
   "id": "automotive-shirt",
   "metadata": {},
   "outputs": [
    {
     "name": "stdout",
     "output_type": "stream",
     "text": [
      "Not Equal\n"
     ]
    }
   ],
   "source": [
    "a = 50\n",
    "b = 10\n",
    "if a != b: print('Not Equal')"
   ]
  },
  {
   "cell_type": "markdown",
   "id": "accessible-brisbane",
   "metadata": {},
   "source": [
    "3. Print \"Equal\" if a is equal to b, otherwise print \"Not Equal\""
   ]
  },
  {
   "cell_type": "code",
   "execution_count": 14,
   "id": "perfect-learning",
   "metadata": {},
   "outputs": [
    {
     "name": "stdout",
     "output_type": "stream",
     "text": [
      "Not Equal\n"
     ]
    }
   ],
   "source": [
    "a = 50\n",
    "b = 10\n",
    "print(\"Equal\") if a == b else print(\"Not Equal\")"
   ]
  },
  {
   "cell_type": "markdown",
   "id": "sporting-antarctica",
   "metadata": {},
   "source": [
    "4. Print \"1\" if a is equal to b, print \"2\" if a is greater than b, otherwise print \"3\"."
   ]
  },
  {
   "cell_type": "code",
   "execution_count": 16,
   "id": "assumed-warren",
   "metadata": {},
   "outputs": [
    {
     "name": "stdout",
     "output_type": "stream",
     "text": [
      "2\n"
     ]
    }
   ],
   "source": [
    "a = 50\n",
    "b = 10\n",
    "print(\"1\") if a == b else print(\"2\") if a > b else print(\"3\")"
   ]
  },
  {
   "cell_type": "markdown",
   "id": "active-justice",
   "metadata": {},
   "source": [
    "5. Print \"Hello\" if a is equal to b, and c is equal to d.\n",
    "\n",
    "                c = 5\n",
    "                d = 15"
   ]
  },
  {
   "cell_type": "code",
   "execution_count": 28,
   "id": "demanding-debut",
   "metadata": {},
   "outputs": [],
   "source": [
    "a = 50\n",
    "b = 10\n",
    "c = 5\n",
    "d = 15\n",
    "\n",
    "if a == b and c == d:\n",
    "    print(\"Hello\")"
   ]
  },
  {
   "cell_type": "markdown",
   "id": "broke-palmer",
   "metadata": {},
   "source": [
    "6. Print \"Hello\" if a is equal to b, or if c is equal to d."
   ]
  },
  {
   "cell_type": "code",
   "execution_count": 26,
   "id": "broad-frost",
   "metadata": {},
   "outputs": [],
   "source": [
    "a = 50\n",
    "b = 10\n",
    "c = 5\n",
    "d = 15\n",
    "\n",
    "if a == b or c == d:\n",
    "    print(\"Hello\")"
   ]
  },
  {
   "cell_type": "markdown",
   "id": "bigger-whole",
   "metadata": {},
   "source": [
    "7. Use the correct short hand syntax to write the following conditional expression in one line:\n",
    "    \n",
    "                if 5 > 2:\n",
    "                  print(\"Yes\")\n",
    "                else\n",
    "                  print(\"No\")"
   ]
  },
  {
   "cell_type": "code",
   "execution_count": 24,
   "id": "helpful-garage",
   "metadata": {},
   "outputs": [
    {
     "name": "stdout",
     "output_type": "stream",
     "text": [
      "Yes\n"
     ]
    }
   ],
   "source": [
    "print(\"Yes\") if 5 > 2 else print(\"No\")"
   ]
  },
  {
   "cell_type": "markdown",
   "id": "filled-twist",
   "metadata": {},
   "source": [
    "# Functions"
   ]
  },
  {
   "cell_type": "markdown",
   "id": "junior-tiger",
   "metadata": {},
   "source": [
    "1. Create a function named my_function to print 'Hello from a function' when called"
   ]
  },
  {
   "cell_type": "code",
   "execution_count": 29,
   "id": "political-wound",
   "metadata": {},
   "outputs": [],
   "source": [
    "def my_function ():\n",
    "    print(\"Hello from a function\")"
   ]
  },
  {
   "cell_type": "markdown",
   "id": "sought-native",
   "metadata": {},
   "source": [
    "2. Execute a function named my_function.\n",
    "\n",
    "                def my_function():\n",
    "                  print(\"Hello from a function\")"
   ]
  },
  {
   "cell_type": "code",
   "execution_count": 33,
   "id": "confirmed-coaching",
   "metadata": {},
   "outputs": [
    {
     "name": "stdout",
     "output_type": "stream",
     "text": [
      "Hello from a function\n"
     ]
    }
   ],
   "source": [
    "def my_function():\n",
    "    print(\"Hello from a function\")\n",
    "    \n",
    "my_function()"
   ]
  },
  {
   "cell_type": "markdown",
   "id": "oriented-evidence",
   "metadata": {},
   "source": [
    "3. Let the function return the x parameter + 5.                "
   ]
  },
  {
   "cell_type": "code",
   "execution_count": 34,
   "id": "arctic-flash",
   "metadata": {},
   "outputs": [
    {
     "data": {
      "text/plain": [
       "15"
      ]
     },
     "execution_count": 34,
     "metadata": {},
     "output_type": "execute_result"
    }
   ],
   "source": [
    "def my_function (x):\n",
    "    return x+5\n",
    "\n",
    "my_function(10)"
   ]
  },
  {
   "cell_type": "markdown",
   "id": "minimal-conditioning",
   "metadata": {},
   "source": [
    "## Lambda"
   ]
  },
  {
   "cell_type": "markdown",
   "id": "industrial-style",
   "metadata": {},
   "source": [
    "1. Create a lambda function that takes one parameter a and returns it"
   ]
  },
  {
   "cell_type": "code",
   "execution_count": 3,
   "id": "noted-reality",
   "metadata": {},
   "outputs": [
    {
     "name": "stdout",
     "output_type": "stream",
     "text": [
      "9\n"
     ]
    }
   ],
   "source": [
    "func = lambda a,b: pow(a,)\n",
    "\n",
    "print(func(3,2))"
   ]
  },
  {
   "cell_type": "markdown",
   "id": "unauthorized-stick",
   "metadata": {},
   "source": [
    "# Loops"
   ]
  },
  {
   "cell_type": "markdown",
   "id": "conscious-length",
   "metadata": {},
   "source": [
    "### For Loops"
   ]
  },
  {
   "cell_type": "markdown",
   "id": "seeing-memorial",
   "metadata": {},
   "source": [
    "1. Loop through the items in the fruits list and print each item\n",
    "\n",
    "                fruits = ['apple', 'banana', 'cherry']"
   ]
  },
  {
   "cell_type": "code",
   "execution_count": 41,
   "id": "front-missile",
   "metadata": {},
   "outputs": [
    {
     "name": "stdout",
     "output_type": "stream",
     "text": [
      "apple\n",
      "banana\n",
      "cherry\n"
     ]
    }
   ],
   "source": [
    "fruits = ['apple', 'banana', 'cherry']\n",
    "\n",
    "for i in fruits:\n",
    "    print(i)"
   ]
  },
  {
   "cell_type": "markdown",
   "id": "seventh-lecture",
   "metadata": {},
   "source": [
    "2. In the loop, when item value is 'banana', jump directly to the next item."
   ]
  },
  {
   "cell_type": "code",
   "execution_count": 4,
   "id": "proud-respect",
   "metadata": {},
   "outputs": [
    {
     "name": "stdout",
     "output_type": "stream",
     "text": [
      "apple\n",
      "cherry\n"
     ]
    }
   ],
   "source": [
    "fruits = ['apple', 'banana', 'cherry']\n",
    "    \n",
    "for i in fruits:\n",
    "    if i != 'banana':\n",
    "        print(i)\n",
    "    #else:\n",
    "        #continue"
   ]
  },
  {
   "cell_type": "markdown",
   "id": "bizarre-wallace",
   "metadata": {},
   "source": [
    "3. Use the range function to loop through a code set 6 times"
   ]
  },
  {
   "cell_type": "code",
   "execution_count": 51,
   "id": "comprehensive-viking",
   "metadata": {},
   "outputs": [
    {
     "name": "stdout",
     "output_type": "stream",
     "text": [
      "0\n",
      "1\n",
      "2\n",
      "3\n",
      "4\n",
      "5\n"
     ]
    }
   ],
   "source": [
    "for i in range(6):\n",
    "    print(i)"
   ]
  },
  {
   "cell_type": "markdown",
   "id": "organizational-shoot",
   "metadata": {},
   "source": [
    "4. Exit the loop when x is 'banana'"
   ]
  },
  {
   "cell_type": "code",
   "execution_count": 9,
   "id": "verbal-silly",
   "metadata": {},
   "outputs": [
    {
     "name": "stdout",
     "output_type": "stream",
     "text": [
      "apple\n"
     ]
    }
   ],
   "source": [
    "fruits = ['apple', 'banana', 'cherry']\n",
    "    \n",
    "for i in fruits:\n",
    "    if i == 'banana':\n",
    "        break\n",
    "    print(i)"
   ]
  },
  {
   "cell_type": "markdown",
   "id": "immune-drawing",
   "metadata": {},
   "source": [
    "### While Loops"
   ]
  },
  {
   "cell_type": "markdown",
   "id": "strategic-wrist",
   "metadata": {},
   "source": [
    "1. Print i as long as i is less than 6."
   ]
  },
  {
   "cell_type": "code",
   "execution_count": 1,
   "id": "resistant-favor",
   "metadata": {},
   "outputs": [
    {
     "name": "stdout",
     "output_type": "stream",
     "text": [
      "1\n",
      "2\n",
      "3\n",
      "4\n",
      "5\n"
     ]
    }
   ],
   "source": [
    "i = 1\n",
    "while i < 6:\n",
    "  print(i)\n",
    "  i += 1"
   ]
  },
  {
   "cell_type": "markdown",
   "id": "fixed-suite",
   "metadata": {},
   "source": [
    "2. Stop the loop if i is 3"
   ]
  },
  {
   "cell_type": "code",
   "execution_count": 2,
   "id": "previous-masters",
   "metadata": {},
   "outputs": [
    {
     "name": "stdout",
     "output_type": "stream",
     "text": [
      "1\n",
      "2\n"
     ]
    }
   ],
   "source": [
    "i = 1\n",
    "while i < 6:\n",
    "    if i == 3: \n",
    "        break\n",
    "    else:\n",
    "        print(i)\n",
    "    i += 1 \n",
    "    "
   ]
  },
  {
   "cell_type": "markdown",
   "id": "amateur-wrist",
   "metadata": {},
   "source": [
    "3. In the loop, when i is 3, jump directly to the next iteration. "
   ]
  },
  {
   "cell_type": "code",
   "execution_count": 5,
   "id": "cloudy-affairs",
   "metadata": {},
   "outputs": [
    {
     "name": "stdout",
     "output_type": "stream",
     "text": [
      "1\n",
      "2\n",
      "4\n",
      "5\n",
      "6\n"
     ]
    }
   ],
   "source": [
    "i = 0\n",
    "while i < 6:\n",
    "    i += 1 \n",
    "    if i == 3: \n",
    "        continue\n",
    "    else:\n",
    "        print(i)        \n",
    "   "
   ]
  },
  {
   "cell_type": "markdown",
   "id": "motivated-circulation",
   "metadata": {},
   "source": [
    "4. Print a message once the condition is false"
   ]
  },
  {
   "cell_type": "code",
   "execution_count": 6,
   "id": "checked-hands",
   "metadata": {},
   "outputs": [
    {
     "name": "stdout",
     "output_type": "stream",
     "text": [
      "1\n",
      "2\n",
      "3\n",
      "4\n",
      "5\n",
      "False message display here\n"
     ]
    }
   ],
   "source": [
    "i = 1\n",
    "while i < 6:\n",
    "    print(i)\n",
    "    i += 1\n",
    "else:\n",
    "    print(\"False message display here\")"
   ]
  },
  {
   "cell_type": "markdown",
   "id": "given-renaissance",
   "metadata": {},
   "source": [
    "# Mathematical Function"
   ]
  },
  {
   "cell_type": "markdown",
   "id": "british-update",
   "metadata": {},
   "source": [
    "### Built-in Math Functions\n",
    "\n",
    "1. Find the lowest value of the 3 numbers (5, 10, 25)"
   ]
  },
  {
   "cell_type": "code",
   "execution_count": 8,
   "id": "supreme-scanner",
   "metadata": {},
   "outputs": [
    {
     "name": "stdout",
     "output_type": "stream",
     "text": [
      "5\n"
     ]
    }
   ],
   "source": [
    "print(min(5,10,25))"
   ]
  },
  {
   "cell_type": "markdown",
   "id": "quantitative-lemon",
   "metadata": {},
   "source": [
    "2. Find the number that has the highest value (5, 10, 25)"
   ]
  },
  {
   "cell_type": "code",
   "execution_count": 12,
   "id": "unable-transition",
   "metadata": {},
   "outputs": [
    {
     "name": "stdout",
     "output_type": "stream",
     "text": [
      "25\n"
     ]
    }
   ],
   "source": [
    "print(max(5,10,25))"
   ]
  },
  {
   "cell_type": "markdown",
   "id": "dental-exposure",
   "metadata": {},
   "source": [
    "3. Find the absolute value of the number -7.25"
   ]
  },
  {
   "cell_type": "code",
   "execution_count": 13,
   "id": "chicken-bryan",
   "metadata": {},
   "outputs": [
    {
     "name": "stdout",
     "output_type": "stream",
     "text": [
      "7.25\n"
     ]
    }
   ],
   "source": [
    "print(abs(-7.25))"
   ]
  },
  {
   "cell_type": "markdown",
   "id": "aerial-portuguese",
   "metadata": {},
   "source": [
    "4. Find the value of x to the power of y. (x = 4, y =3)"
   ]
  },
  {
   "cell_type": "code",
   "execution_count": 10,
   "id": "tamil-growth",
   "metadata": {},
   "outputs": [
    {
     "name": "stdout",
     "output_type": "stream",
     "text": [
      "64\n"
     ]
    }
   ],
   "source": [
    "print(pow(4,3))"
   ]
  },
  {
   "cell_type": "markdown",
   "id": "revolutionary-mixture",
   "metadata": {},
   "source": [
    "### The Math Module\n",
    "1. Find the square root of 64"
   ]
  },
  {
   "cell_type": "code",
   "execution_count": 18,
   "id": "occasional-democracy",
   "metadata": {},
   "outputs": [
    {
     "name": "stdout",
     "output_type": "stream",
     "text": [
      "8.0\n"
     ]
    }
   ],
   "source": [
    "print(math.sqrt(64))"
   ]
  },
  {
   "cell_type": "markdown",
   "id": "chicken-activation",
   "metadata": {},
   "source": [
    "2. Round upwards the number 1.4 to the nearest integer"
   ]
  },
  {
   "cell_type": "code",
   "execution_count": 20,
   "id": "bridal-robinson",
   "metadata": {},
   "outputs": [
    {
     "name": "stdout",
     "output_type": "stream",
     "text": [
      "2\n"
     ]
    }
   ],
   "source": [
    "print(math.ceil(1.4))"
   ]
  },
  {
   "cell_type": "markdown",
   "id": "dedicated-subscription",
   "metadata": {},
   "source": [
    "3. Round downwards the number 1.4 to the nearest integer"
   ]
  },
  {
   "cell_type": "code",
   "execution_count": 21,
   "id": "rough-boundary",
   "metadata": {},
   "outputs": [
    {
     "name": "stdout",
     "output_type": "stream",
     "text": [
      "1\n"
     ]
    }
   ],
   "source": [
    "print(math.floor(1.4))"
   ]
  },
  {
   "cell_type": "markdown",
   "id": "minor-hardware",
   "metadata": {},
   "source": [
    "4. Print the value of pi using the math module"
   ]
  },
  {
   "cell_type": "code",
   "execution_count": 23,
   "id": "determined-swaziland",
   "metadata": {},
   "outputs": [
    {
     "name": "stdout",
     "output_type": "stream",
     "text": [
      "3.141592653589793\n"
     ]
    }
   ],
   "source": [
    "print(math.pi)"
   ]
  },
  {
   "cell_type": "markdown",
   "id": "coordinate-declaration",
   "metadata": {},
   "source": [
    "# Generating Random Numbers"
   ]
  },
  {
   "cell_type": "markdown",
   "id": "systematic-cleaning",
   "metadata": {},
   "source": [
    "1. Print a random number between the value 0 and 1 "
   ]
  },
  {
   "cell_type": "code",
   "execution_count": 11,
   "id": "affiliated-interview",
   "metadata": {},
   "outputs": [
    {
     "name": "stdout",
     "output_type": "stream",
     "text": [
      "0.01043006553320558\n"
     ]
    }
   ],
   "source": [
    "import random\n",
    "\n",
    "print(random.random())"
   ]
  },
  {
   "cell_type": "markdown",
   "id": "after-nightmare",
   "metadata": {},
   "source": [
    "2. Print a random integer between the value 1 and 50"
   ]
  },
  {
   "cell_type": "code",
   "execution_count": 28,
   "id": "trying-fiber",
   "metadata": {},
   "outputs": [
    {
     "name": "stdout",
     "output_type": "stream",
     "text": [
      "4\n"
     ]
    }
   ],
   "source": [
    "import random\n",
    "\n",
    "print(random.randint(1,10))"
   ]
  },
  {
   "cell_type": "markdown",
   "id": "handmade-orleans",
   "metadata": {},
   "source": [
    "3. Print a random float value between 0 and 50"
   ]
  },
  {
   "cell_type": "code",
   "execution_count": 30,
   "id": "seasonal-front",
   "metadata": {},
   "outputs": [
    {
     "name": "stdout",
     "output_type": "stream",
     "text": [
      "42.02086693705287\n"
     ]
    }
   ],
   "source": [
    "import random\n",
    "\n",
    "print(random.uniform(0,50))"
   ]
  }
 ],
 "metadata": {
  "kernelspec": {
   "display_name": "Python 3 (ipykernel)",
   "language": "python",
   "name": "python3"
  },
  "language_info": {
   "codemirror_mode": {
    "name": "ipython",
    "version": 3
   },
   "file_extension": ".py",
   "mimetype": "text/x-python",
   "name": "python",
   "nbconvert_exporter": "python",
   "pygments_lexer": "ipython3",
   "version": "3.9.7"
  }
 },
 "nbformat": 4,
 "nbformat_minor": 5
}
