{
 "cells": [
  {
   "cell_type": "markdown",
   "id": "ultimate-morning",
   "metadata": {
    "slideshow": {
     "slide_type": "skip"
    }
   },
   "source": [
    "Copyright © 2020 Selangor Human Resource Development Center. All Rights Reserved."
   ]
  },
  {
   "cell_type": "markdown",
   "id": "chicken-burton",
   "metadata": {},
   "source": [
    "# File Handling"
   ]
  },
  {
   "cell_type": "markdown",
   "id": "pretty-paste",
   "metadata": {},
   "source": [
    "1. Write a Python program to write a list content to a file.\n",
    "\n",
    "                color = ['Red', 'Green', 'White', 'Black', 'Pink', 'Yellow']"
   ]
  },
  {
   "cell_type": "code",
   "execution_count": 15,
   "id": "pressed-gravity",
   "metadata": {},
   "outputs": [],
   "source": [
    "color = ['Red', 'Green', 'White', 'Black', 'Pink', 'Yellow']\n",
    "\n",
    "f = open('abc.txt', 'w') # open file for writing \n",
    "\n",
    "for i in color:\n",
    "    f.write(i+'\\n')\n",
    "f.close() # close the file"
   ]
  },
  {
   "cell_type": "code",
   "execution_count": 36,
   "id": "df4b8d63",
   "metadata": {},
   "outputs": [],
   "source": [
    "#in-class solution\n",
    "with open('abc.txt','w') as myfile:\n",
    "    for c in color:\n",
    "        myfile.write(\"{}\\n\".format(c))     "
   ]
  },
  {
   "cell_type": "code",
   "execution_count": null,
   "id": "9bbc9bdb",
   "metadata": {},
   "outputs": [],
   "source": [
    "2. Write a Python program to copy contents of earlier text file to another file ('def.txt')"
   ]
  },
  {
   "cell_type": "code",
   "execution_count": 33,
   "id": "arranged-stability",
   "metadata": {},
   "outputs": [],
   "source": [
    "f = open('abc.txt','r') # open file for writing \n",
    "g = open('def.txt','w')\n",
    "\n",
    "for i in f:\n",
    "    g.write(i)\n",
    "    \n",
    "f.close() # close the file\n",
    "g.close()"
   ]
  },
  {
   "cell_type": "code",
   "execution_count": 38,
   "id": "89af470f",
   "metadata": {},
   "outputs": [
    {
     "data": {
      "text/plain": [
       "'def.txt'"
      ]
     },
     "execution_count": 38,
     "metadata": {},
     "output_type": "execute_result"
    }
   ],
   "source": [
    "#in-class solution\n",
    "from shutil import copyfile\n",
    "\n",
    "copyfile('abc.txt','def.txt')"
   ]
  },
  {
   "cell_type": "code",
   "execution_count": null,
   "id": "18b7de8e",
   "metadata": {},
   "outputs": [],
   "source": [
    "3. Write a Python program to combine each line from first file with the corresponding line in second file.\n",
    "   * Use 'abc.txt' and 'def.txt'"
   ]
  },
  {
   "cell_type": "code",
   "execution_count": 34,
   "id": "everyday-accordance",
   "metadata": {},
   "outputs": [],
   "source": [
    "with open('abc.txt') as fh1, open('def.txt','r+') as fh2:\n",
    "    x = list(map(lambda x:x.strip(),fh1.readlines()))\n",
    "    y = list(map(lambda x:x.strip(),fh2.readlines()))\n",
    "    z = '\\n'.join(','.join(x) for x in zip(x,y))\n",
    "    fh2.write(z)"
   ]
  },
  {
   "cell_type": "code",
   "execution_count": 25,
   "id": "91866e84",
   "metadata": {},
   "outputs": [],
   "source": [
    "#in-class solution\n",
    "with open('abc.txt') as fh1, open('def.txt','r+') as fh2:\n",
    "    for line1, line2 in zip(fh1,fh2):\n",
    "        print(line1+line2)"
   ]
  },
  {
   "cell_type": "markdown",
   "id": "quarterly-holocaust",
   "metadata": {},
   "source": [
    "4. Write a Python program to read a random line from a file ('abc.txt')"
   ]
  },
  {
   "cell_type": "code",
   "execution_count": 29,
   "id": "equivalent-wonder",
   "metadata": {},
   "outputs": [
    {
     "name": "stdout",
     "output_type": "stream",
     "text": [
      "Black\n"
     ]
    }
   ],
   "source": [
    "import random\n",
    "def random_line(fname):\n",
    "    lines = open(fname).read().splitlines()\n",
    "    return random.choice(lines)\n",
    "print(random_line('abc.txt'))"
   ]
  },
  {
   "cell_type": "markdown",
   "id": "composed-deficit",
   "metadata": {},
   "source": [
    "5. Write a Python program to read a file line by line and store it into an array"
   ]
  },
  {
   "cell_type": "code",
   "execution_count": 33,
   "id": "acknowledged-shoulder",
   "metadata": {},
   "outputs": [
    {
     "name": "stdout",
     "output_type": "stream",
     "text": [
      "['Red', 'Green', 'White', 'Black', 'Pink', 'Yellow']\n"
     ]
    }
   ],
   "source": [
    "f = open(\"abc.txt\", \"r\")\n",
    "arr = f.readlines()\n",
    "print(list(map(lambda x:x.strip(),arr)))\n",
    "f.close()"
   ]
  }
 ],
 "metadata": {
  "kernelspec": {
   "display_name": "Python 3 (ipykernel)",
   "language": "python",
   "name": "python3"
  },
  "language_info": {
   "codemirror_mode": {
    "name": "ipython",
    "version": 3
   },
   "file_extension": ".py",
   "mimetype": "text/x-python",
   "name": "python",
   "nbconvert_exporter": "python",
   "pygments_lexer": "ipython3",
   "version": "3.9.7"
  }
 },
 "nbformat": 4,
 "nbformat_minor": 5
}
