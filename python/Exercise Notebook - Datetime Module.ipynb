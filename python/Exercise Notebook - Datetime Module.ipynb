{
 "cells": [
  {
   "cell_type": "markdown",
   "id": "processed-barcelona",
   "metadata": {},
   "source": [
    "# Datetime Module"
   ]
  },
  {
   "cell_type": "markdown",
   "id": "amended-contact",
   "metadata": {},
   "source": [
    "1. Write a Python script to display the various Date Time formats using print functions"
   ]
  },
  {
   "cell_type": "markdown",
   "id": "sophisticated-posting",
   "metadata": {},
   "source": [
    "* Current date and time"
   ]
  },
  {
   "cell_type": "code",
   "execution_count": 1,
   "id": "bored-washer",
   "metadata": {},
   "outputs": [
    {
     "name": "stdout",
     "output_type": "stream",
     "text": [
      "Current date and time :  2022-03-25 09:04:22.386150\n"
     ]
    }
   ],
   "source": [
    "import datetime\n",
    "\n",
    "x = datetime.datetime.now()\n",
    "\n",
    "print(\"Current date and time : \",x)"
   ]
  },
  {
   "cell_type": "markdown",
   "id": "composed-pointer",
   "metadata": {},
   "source": [
    "* Current year"
   ]
  },
  {
   "cell_type": "code",
   "execution_count": 2,
   "id": "dd23dff8",
   "metadata": {},
   "outputs": [
    {
     "name": "stdout",
     "output_type": "stream",
     "text": [
      "Current year :  2022\n"
     ]
    }
   ],
   "source": [
    "print(\"Current year : \",x.year)"
   ]
  },
  {
   "cell_type": "markdown",
   "id": "literary-award",
   "metadata": {},
   "source": [
    "* Month of year"
   ]
  },
  {
   "cell_type": "code",
   "execution_count": 3,
   "id": "global-madness",
   "metadata": {},
   "outputs": [
    {
     "name": "stdout",
     "output_type": "stream",
     "text": [
      "Current month in number :  3\n",
      "Current month in string :  March\n"
     ]
    }
   ],
   "source": [
    "print(\"Current month in number : \",x.month)\n",
    "print(\"Current month in string : \",x.strftime(\"%B\"))"
   ]
  },
  {
   "cell_type": "markdown",
   "id": "limiting-patio",
   "metadata": {},
   "source": [
    "* Week number of the year"
   ]
  },
  {
   "cell_type": "code",
   "execution_count": 4,
   "id": "scientific-essence",
   "metadata": {},
   "outputs": [
    {
     "name": "stdout",
     "output_type": "stream",
     "text": [
      "Current week number :  12\n"
     ]
    }
   ],
   "source": [
    "print(\"Current week number : \",x.strftime(\"%U\"))"
   ]
  },
  {
   "cell_type": "markdown",
   "id": "posted-angle",
   "metadata": {},
   "source": [
    "* Weekday of the week"
   ]
  },
  {
   "cell_type": "code",
   "execution_count": 16,
   "id": "minimal-magnitude",
   "metadata": {},
   "outputs": [
    {
     "name": "stdout",
     "output_type": "stream",
     "text": [
      "Thursday, Day : 4\n"
     ]
    }
   ],
   "source": [
    "print(x.strftime(\"{}, Day : {}\".format(\"%A\",\"%w\")))"
   ]
  },
  {
   "cell_type": "markdown",
   "id": "lucky-ecology",
   "metadata": {},
   "source": [
    "* Day of year"
   ]
  },
  {
   "cell_type": "code",
   "execution_count": 17,
   "id": "alternative-comment",
   "metadata": {},
   "outputs": [
    {
     "name": "stdout",
     "output_type": "stream",
     "text": [
      "Thursday, Day : 083\n"
     ]
    }
   ],
   "source": [
    "print(x.strftime(\"{}, Day : {}\".format(\"%A\",\"%j\")))"
   ]
  },
  {
   "cell_type": "markdown",
   "id": "rough-toilet",
   "metadata": {},
   "source": [
    "* Day of the month"
   ]
  },
  {
   "cell_type": "code",
   "execution_count": 18,
   "id": "present-neutral",
   "metadata": {},
   "outputs": [
    {
     "name": "stdout",
     "output_type": "stream",
     "text": [
      "Thursday, Day : 24\n"
     ]
    }
   ],
   "source": [
    "print(x.strftime(\"{}, Day : {}\".format(\"%A\",\"%d\")))"
   ]
  },
  {
   "cell_type": "markdown",
   "id": "unnecessary-communication",
   "metadata": {},
   "source": [
    "* Day of week"
   ]
  },
  {
   "cell_type": "code",
   "execution_count": 19,
   "id": "specialized-rubber",
   "metadata": {},
   "outputs": [
    {
     "name": "stdout",
     "output_type": "stream",
     "text": [
      "Thursday, Day : 4\n"
     ]
    }
   ],
   "source": [
    "print(x.strftime(\"{}, Day : {}\".format(\"%A\",\"%w\")))"
   ]
  },
  {
   "cell_type": "markdown",
   "id": "moved-galaxy",
   "metadata": {},
   "source": [
    "2. Write a Python program to convert a string to datetime\n",
    "\n",
    "                'Jul 1 2014 2:43PM'"
   ]
  },
  {
   "cell_type": "code",
   "execution_count": 23,
   "id": "advance-territory",
   "metadata": {},
   "outputs": [
    {
     "name": "stdout",
     "output_type": "stream",
     "text": [
      "2014-07-01 14:43:00\n"
     ]
    }
   ],
   "source": [
    "print(datetime.datetime.strptime(\"Jul 1 2014 2:43PM\",\"%b %d %Y  %I:%M%p\"))"
   ]
  },
  {
   "cell_type": "markdown",
   "id": "intensive-latino",
   "metadata": {},
   "source": [
    "3. Write a Pythn program to subtract five days from current date"
   ]
  },
  {
   "cell_type": "code",
   "execution_count": 24,
   "id": "secret-monaco",
   "metadata": {},
   "outputs": [
    {
     "name": "stdout",
     "output_type": "stream",
     "text": [
      "2022-03-19 16:47:19.412111\n"
     ]
    }
   ],
   "source": [
    "print(datetime.datetime.today() - datetime.timedelta(days=5))"
   ]
  },
  {
   "cell_type": "markdown",
   "id": "blond-trust",
   "metadata": {},
   "source": [
    "4. Write a Python program to print yesterday, today, tomorrow."
   ]
  },
  {
   "cell_type": "code",
   "execution_count": 26,
   "id": "alternative-cambridge",
   "metadata": {},
   "outputs": [
    {
     "name": "stdout",
     "output_type": "stream",
     "text": [
      "2022-03-23 16:48:10.417328\n",
      "2022-03-24 16:48:10.418325\n",
      "2022-03-25 16:48:10.418325\n"
     ]
    }
   ],
   "source": [
    "print(datetime.datetime.today() - datetime.timedelta(days=1))\n",
    "print(datetime.datetime.today())\n",
    "print(datetime.datetime.today() + datetime.timedelta(days=1))"
   ]
  },
  {
   "cell_type": "markdown",
   "id": "optimum-potential",
   "metadata": {},
   "source": [
    "5. Write a Python program to add 5 seconds with the current time."
   ]
  },
  {
   "cell_type": "code",
   "execution_count": 33,
   "id": "smooth-democrat",
   "metadata": {},
   "outputs": [
    {
     "name": "stdout",
     "output_type": "stream",
     "text": [
      "2022-03-24 16:49:06.800048\n"
     ]
    }
   ],
   "source": [
    "print(datetime.datetime.now() + datetime.timedelta(seconds=5))"
   ]
  },
  {
   "cell_type": "markdown",
   "id": "fatal-titanium",
   "metadata": {},
   "source": [
    "6. Write a Python program to find the date of the Monday of week 50 in 2010."
   ]
  },
  {
   "cell_type": "code",
   "execution_count": 35,
   "id": "blond-announcement",
   "metadata": {},
   "outputs": [
    {
     "name": "stdout",
     "output_type": "stream",
     "text": [
      "2010-12-13 00:00:00\n"
     ]
    }
   ],
   "source": [
    "print(datetime.datetime.strptime(\"Monday 50 2010\",\"%A  %U %Y\"))"
   ]
  },
  {
   "cell_type": "markdown",
   "id": "later-messenger",
   "metadata": {},
   "source": [
    "7. Write a Python program to covert today's date to timestamp"
   ]
  },
  {
   "cell_type": "code",
   "execution_count": 9,
   "id": "completed-stack",
   "metadata": {},
   "outputs": [
    {
     "name": "stdout",
     "output_type": "stream",
     "text": [
      "1648170262.0\n"
     ]
    }
   ],
   "source": [
    "import time\n",
    "\n",
    "print(time.mktime(x.timetuple()))"
   ]
  },
  {
   "cell_type": "code",
   "execution_count": 8,
   "id": "fc8f8e93",
   "metadata": {},
   "outputs": [
    {
     "name": "stdout",
     "output_type": "stream",
     "text": [
      "1648172172.362709\n"
     ]
    }
   ],
   "source": [
    "#in-class solution\n",
    "\n",
    "print(datetime.datetime.now().timestamp())"
   ]
  },
  {
   "cell_type": "markdown",
   "id": "technical-squad",
   "metadata": {},
   "source": [
    "8. Write a Python program convert a string date of '27/09/2021' to the timestamp."
   ]
  },
  {
   "cell_type": "code",
   "execution_count": 47,
   "id": "exciting-banner",
   "metadata": {},
   "outputs": [
    {
     "name": "stdout",
     "output_type": "stream",
     "text": [
      "1632672000.0\n"
     ]
    }
   ],
   "source": [
    "print(time.mktime(datetime.datetime.strptime(\"27/09/2021\",\"%d/%m/%Y\").timetuple()))"
   ]
  },
  {
   "cell_type": "code",
   "execution_count": 12,
   "id": "eaa6c1b3",
   "metadata": {},
   "outputs": [
    {
     "name": "stdout",
     "output_type": "stream",
     "text": [
      "1632672000.0\n"
     ]
    }
   ],
   "source": [
    "#in-class solution\n",
    "\n",
    "print(datetime.datetime.strptime(\"27/09/2021\",\"%d/%m/%Y\").timestamp())"
   ]
  },
  {
   "cell_type": "markdown",
   "id": "variable-colony",
   "metadata": {},
   "source": [
    "9. Convert the timestamp 1545730073 to datetime format"
   ]
  },
  {
   "cell_type": "code",
   "execution_count": 45,
   "id": "prerequisite-tourism",
   "metadata": {},
   "outputs": [
    {
     "name": "stdout",
     "output_type": "stream",
     "text": [
      "Tuesday, 2018-12-25 17:27:53\n"
     ]
    }
   ],
   "source": [
    "print(time. strftime('%A, %Y-%m-%d %H:%M:%S', time. localtime(1545730073)))"
   ]
  }
 ],
 "metadata": {
  "kernelspec": {
   "display_name": "Python 3 (ipykernel)",
   "language": "python",
   "name": "python3"
  },
  "language_info": {
   "codemirror_mode": {
    "name": "ipython",
    "version": 3
   },
   "file_extension": ".py",
   "mimetype": "text/x-python",
   "name": "python",
   "nbconvert_exporter": "python",
   "pygments_lexer": "ipython3",
   "version": "3.9.7"
  }
 },
 "nbformat": 4,
 "nbformat_minor": 5
}
