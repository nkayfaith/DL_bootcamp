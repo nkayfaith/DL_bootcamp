{
 "cells": [
  {
   "cell_type": "markdown",
   "id": "included-irrigation",
   "metadata": {},
   "source": [
    "# Mini Project 1: Temperature Conversion"
   ]
  },
  {
   "cell_type": "markdown",
   "id": "quick-daughter",
   "metadata": {},
   "source": [
    "* Create a simple temperature conversion application that converts the temperature measurements from degrees Celsius to degrees Fahrenheit or vice versa based on the mode selection by the user. \n",
    "* The comments below serves as a guide for you to complete the project. \n",
    "* You are free to add extra features to the project given that you satisfy all the requirements that was asked.\n",
    "\n",
    "Note: You do not need to attach the .csv file when you are submitting"
   ]
  },
  {
   "cell_type": "code",
   "execution_count": 1,
   "id": "bound-pharmacology",
   "metadata": {},
   "outputs": [],
   "source": [
    "# Import all the modules that are required for the project here\n",
    "from datetime import datetime\n",
    "import csv\n",
    "header = ['timestamp','celcius','fahrenheit']\n",
    "arr = []"
   ]
  },
  {
   "cell_type": "code",
   "execution_count": 2,
   "id": "effective-compact",
   "metadata": {},
   "outputs": [
    {
     "name": "stdout",
     "output_type": "stream",
     "text": [
      "press [c] for celcius, [f] for farenheit\n",
      "F\n"
     ]
    }
   ],
   "source": [
    "# Prompt the user to select the mode (Celsius or Fahrenheit)\n",
    "arr.clear()\n",
    "prompt = input((\"Press [c] for Celcius, [f] for Farenheit\\n\").lower())\n",
    "    "
   ]
  },
  {
   "cell_type": "code",
   "execution_count": 3,
   "id": "plain-worse",
   "metadata": {},
   "outputs": [
    {
     "name": "stdout",
     "output_type": "stream",
     "text": [
      "Enter temperature in fahrenheit: 99\n",
      "99.00 Fahrenheit is: 37.22 Celsius\n"
     ]
    }
   ],
   "source": [
    "# Prompt the user to insert the value that needs to be converted to the other unit\n",
    "if prompt.lower() == 'c':\n",
    "    celsius = float(input(\"Enter temperature in celsius: \"))\n",
    "    fahrenheit = (celsius * 9/5) + 32\n",
    "    print('%.2f Celsius is: %0.2f Fahrenheit' %(celsius, fahrenheit))\n",
    "elif prompt.lower() == 'f':\n",
    "    fahrenheit = float(input(\"Enter temperature in fahrenheit: \"))\n",
    "    celsius = (fahrenheit - 32) * 5/9\n",
    "    print('%.2f Fahrenheit is: %0.2f Celsius' %(fahrenheit, celsius))\n"
   ]
  },
  {
   "cell_type": "code",
   "execution_count": 6,
   "id": "indirect-indicator",
   "metadata": {},
   "outputs": [],
   "source": [
    "# store in a CSV file with datetime information by adding a new line for each entry\n",
    "with open(\"temp_covert.csv\",\"a\") as f:\n",
    "    writer = csv.writer(f)\n",
    "    arr.append(datetime.now())\n",
    "    arr.append(celsius)\n",
    "    arr.append(fahrenheit)\n",
    "    arr.append(prompt)\n",
    "    writer.writerow(arr)"
   ]
  }
 ],
 "metadata": {
  "kernelspec": {
   "display_name": "Python 3 (ipykernel)",
   "language": "python",
   "name": "python3"
  },
  "language_info": {
   "codemirror_mode": {
    "name": "ipython",
    "version": 3
   },
   "file_extension": ".py",
   "mimetype": "text/x-python",
   "name": "python",
   "nbconvert_exporter": "python",
   "pygments_lexer": "ipython3",
   "version": "3.9.7"
  }
 },
 "nbformat": 4,
 "nbformat_minor": 5
}
