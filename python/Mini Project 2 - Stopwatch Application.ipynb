{
 "cells": [
  {
   "cell_type": "markdown",
   "id": "cosmetic-earthquake",
   "metadata": {},
   "source": [
    "# Mini Project 2 - Stopwatch Application"
   ]
  },
  {
   "cell_type": "markdown",
   "id": "alpha-cheat",
   "metadata": {},
   "source": [
    "* Create a stopwatch application that has functions start(), stop() and reset().\n",
    "* The count should start when you call the start() function.\n",
    "* When stop() function is called stop the count and return the duration.\n",
    "* Calling reset() function will reset the duration to 0\n",
    "* Extra: Log the events as a new line every time the stop() function is called into a CSV file"
   ]
  },
  {
   "cell_type": "code",
   "execution_count": null,
   "id": "lyric-romania",
   "metadata": {},
   "outputs": [],
   "source": [
    "# import the necessary modules\n",
    "from datetime import datetime\n",
    "\n",
    "startts = stopts = duration = 0"
   ]
  },
  {
   "cell_type": "code",
   "execution_count": null,
   "id": "adjusted-salvation",
   "metadata": {},
   "outputs": [],
   "source": [
    "# start() function\n",
    "def start():   \n",
    "    return datetime.now()"
   ]
  },
  {
   "cell_type": "code",
   "execution_count": null,
   "id": "urban-spank",
   "metadata": {},
   "outputs": [],
   "source": [
    "# stop() function\n",
    "def stop(startts,stopts,duration):\n",
    "\n",
    "    stopts = datetime.now()\n",
    "    duration = (stopts - startts).total_seconds()\n",
    "\n",
    "    with open(\"stopwatch_log.txt\",\"a+\") as f:\n",
    "        f.write(\"Start timestamp : {}\\tStop timestamp : {}\\tDuration : {}\\n\".format(startts, stopts,duration))\n",
    "\n",
    "    return startts,stopts,duration"
   ]
  },
  {
   "cell_type": "code",
   "execution_count": null,
   "id": "intense-disaster",
   "metadata": {},
   "outputs": [],
   "source": [
    "# reset() function\n",
    "\n",
    "def reset(startts,stopts,duration):\n",
    "    \n",
    "    startts = stopts = duration = 0\n",
    "\n",
    "    with open(\"stopwatch_log.txt\",\"a+\") as f:\n",
    "        f.write(\"Stopwatch Reset at {}\\n\".format(datetime.now()))\n",
    "        \n",
    "    return startts,stopts,duration "
   ]
  },
  {
   "cell_type": "code",
   "execution_count": null,
   "id": "e8eea810",
   "metadata": {},
   "outputs": [],
   "source": [
    "#main\n",
    "prompt = '0'\n",
    "\n",
    "while prompt in (\"0\",\"1\",\"2\"):\n",
    "    prompt = input(\"Press [0] to start, [1] to stop, [2] to reset,any key to exit\\n\")\n",
    "    \n",
    "    if prompt == \"0\":\n",
    "        startts = start()\n",
    "        print(\"Start\")\n",
    "        print(\"Start timestamp : {}\\tStop timestamp : {}\\tDuration : {}\\n\".format(startts, stopts,duration))\n",
    "    elif prompt == \"1\":\n",
    "        startts,stopts,duration = stop(startts,stopts,duration)\n",
    "        print(\"Stop\")\n",
    "        print(\"Start timestamp : {}\\tStop timestamp : {}\\tDuration : {}\\n\".format(startts, stopts,duration))\n",
    "    elif prompt == \"2\":\n",
    "        startts,stopts,duration = reset(startts,stopts,duration)\n",
    "        print(\"Reset\")\n",
    "        print(\"Start timestamp : {}\\tStop timestamp : {}\\tDuration : {}\\n\".format(startts, stopts,duration))\n"
   ]
  }
 ],
 "metadata": {
  "kernelspec": {
   "display_name": "Python 3 (ipykernel)",
   "language": "python",
   "name": "python3"
  },
  "language_info": {
   "codemirror_mode": {
    "name": "ipython",
    "version": 3
   },
   "file_extension": ".py",
   "mimetype": "text/x-python",
   "name": "python",
   "nbconvert_exporter": "python",
   "pygments_lexer": "ipython3",
   "version": "3.9.7"
  }
 },
 "nbformat": 4,
 "nbformat_minor": 5
}
