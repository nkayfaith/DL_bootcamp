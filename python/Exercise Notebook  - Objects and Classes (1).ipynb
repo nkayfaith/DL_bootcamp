{
 "cells": [
  {
   "cell_type": "markdown",
   "id": "identified-species",
   "metadata": {
    "slideshow": {
     "slide_type": "skip"
    }
   },
   "source": [
    "Copyright © 2020 Selangor Human Resource Development Center. All Rights Reserved."
   ]
  },
  {
   "cell_type": "markdown",
   "id": "lightweight-turner",
   "metadata": {},
   "source": [
    "# Objects and Classes"
   ]
  },
  {
   "cell_type": "markdown",
   "id": "second-discussion",
   "metadata": {},
   "source": [
    "1. Create an empty class named MyClass"
   ]
  },
  {
   "cell_type": "code",
   "execution_count": null,
   "id": "romance-signature",
   "metadata": {},
   "outputs": [],
   "source": []
  },
  {
   "cell_type": "markdown",
   "id": "satisfied-scanner",
   "metadata": {},
   "source": [
    "2. Create an object of MyClass called p1\n",
    "\n",
    "                class MyClass:\n",
    "                    x = 5"
   ]
  },
  {
   "cell_type": "code",
   "execution_count": null,
   "id": "nuclear-zimbabwe",
   "metadata": {},
   "outputs": [],
   "source": []
  },
  {
   "cell_type": "markdown",
   "id": "going-married",
   "metadata": {},
   "source": [
    "3. Use the p1 object to print the value of x"
   ]
  },
  {
   "cell_type": "code",
   "execution_count": null,
   "id": "quick-annotation",
   "metadata": {},
   "outputs": [],
   "source": []
  },
  {
   "cell_type": "markdown",
   "id": "respected-match",
   "metadata": {},
   "source": [
    "4. What is the correct syntax to assign a \"init\" function with arguments name and age to a class named Person?"
   ]
  },
  {
   "cell_type": "code",
   "execution_count": null,
   "id": "celtic-accounting",
   "metadata": {},
   "outputs": [],
   "source": []
  },
  {
   "cell_type": "markdown",
   "id": "czech-telescope",
   "metadata": {},
   "source": [
    "5. Write a Python class named Rectangle constructed by a length and width and a method which will compute the area of a rectangle."
   ]
  },
  {
   "cell_type": "code",
   "execution_count": null,
   "id": "polar-sullivan",
   "metadata": {},
   "outputs": [],
   "source": []
  },
  {
   "cell_type": "markdown",
   "id": "civic-mention",
   "metadata": {},
   "source": [
    "6. Write a Python class named Circle constructed by a radius and two methods which will compute the area and the perimeter of a circle"
   ]
  },
  {
   "cell_type": "code",
   "execution_count": null,
   "id": "invalid-citizenship",
   "metadata": {},
   "outputs": [],
   "source": []
  }
 ],
 "metadata": {
  "kernelspec": {
   "display_name": "Python 3",
   "language": "python",
   "name": "python3"
  },
  "language_info": {
   "codemirror_mode": {
    "name": "ipython",
    "version": 3
   },
   "file_extension": ".py",
   "mimetype": "text/x-python",
   "name": "python",
   "nbconvert_exporter": "python",
   "pygments_lexer": "ipython3",
   "version": "3.8.8"
  }
 },
 "nbformat": 4,
 "nbformat_minor": 5
}
